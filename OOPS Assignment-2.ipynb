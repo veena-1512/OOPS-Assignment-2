{
 "cells": [
  {
   "cell_type": "markdown",
   "id": "99cd806f-5f36-41dc-bcf9-972dee4054f8",
   "metadata": {},
   "source": [
    "Q1. In object-oriented programming (OOP), abstraction is a fundamental principle that focuses on representing the essential features of an object or a concept while hiding the unnecessary details. "
   ]
  },
  {
   "cell_type": "code",
   "execution_count": 3,
   "id": "039f1555-57b3-4483-9253-60ff4f247247",
   "metadata": {},
   "outputs": [
    {
     "name": "stdout",
     "output_type": "stream",
     "text": [
      "Area of circle: 78.5\n",
      "Area of rectangle: 24\n"
     ]
    }
   ],
   "source": [
    "from abc import ABC, abstractmethod\n",
    "\n",
    "class Shape(ABC):\n",
    "    @abstractmethod\n",
    "    def calculate_area(self):\n",
    "        pass\n",
    "\n",
    "class Circle(Shape):\n",
    "    def __init__(self, radius):\n",
    "        self.radius = radius\n",
    "    \n",
    "    def calculate_area(self):\n",
    "        return 3.14 * self.radius**2\n",
    "\n",
    "class Rectangle(Shape):\n",
    "    def __init__(self, width, height):\n",
    "        self.width = width\n",
    "        self.height = height\n",
    "    \n",
    "    def calculate_area(self):\n",
    "        return self.width * self.height\n",
    "\n",
    "circle = Circle(5)\n",
    "print(\"Area of circle:\", circle.calculate_area())\n",
    "\n",
    "rectangle = Rectangle(4, 6)\n",
    "print(\"Area of rectangle:\", rectangle.calculate_area())\n"
   ]
  },
  {
   "cell_type": "markdown",
   "id": "7d68973a-2d88-4008-8fdd-a039ed51329a",
   "metadata": {},
   "source": [
    "Q,2. i.Abstraction:- Abstraction is the process of representing complex real-world entities as simplified models in code. It involves focusing on the essential features and behaviors of an object while hiding unnecessary details. \n",
    "\n",
    "Examples:-\n"
   ]
  },
  {
   "cell_type": "code",
   "execution_count": 5,
   "id": "d1f0567c-3a87-4f33-8be6-583ae810f1df",
   "metadata": {},
   "outputs": [],
   "source": [
    "from abc import ABC, abstractmethod\n",
    "class Shape(ABC):\n",
    "    def area(self):\n",
    "        pass\n",
    "class Circle(Shape):\n",
    "    def __init__(self, radius):\n",
    "        self.radius = radius\n",
    "    def area(self):\n",
    "        return 3.14 * self.radius * self.radius\n",
    "class Rectangle(Shape):\n",
    "    def __init__(self, width, height):\n",
    "        self.width = width\n",
    "        self.height = height\n",
    "\n",
    "    def area(self):\n",
    "        return self.width * self.height"
   ]
  },
  {
   "cell_type": "code",
   "execution_count": 8,
   "id": "6969da2f-ac46-4235-adb3-c92affe837d6",
   "metadata": {},
   "outputs": [],
   "source": [
    "circle = Circle(8)\n",
    "rectangle = Rectangle(4, 6)"
   ]
  },
  {
   "cell_type": "code",
   "execution_count": 7,
   "id": "60634e02-e002-4965-b767-004ab4e94db1",
   "metadata": {},
   "outputs": [
    {
     "name": "stdout",
     "output_type": "stream",
     "text": [
      "78.5\n"
     ]
    }
   ],
   "source": [
    "print(circle.area()) "
   ]
  },
  {
   "cell_type": "code",
   "execution_count": 9,
   "id": "1860e02d-79a9-4e78-93e3-73afc213ddcd",
   "metadata": {},
   "outputs": [
    {
     "name": "stdout",
     "output_type": "stream",
     "text": [
      "24\n"
     ]
    }
   ],
   "source": [
    "print(rectangle.area())"
   ]
  },
  {
   "cell_type": "markdown",
   "id": "3c82011f-4fa9-4db0-856e-a5a2ea2cdb2c",
   "metadata": {},
   "source": [
    "ii. Encapsulation:-Encapsulation is the practice of hiding internal data and methods of an object and providing controlled access to them through public interfaces.\n",
    "\n",
    "Example:-"
   ]
  },
  {
   "cell_type": "code",
   "execution_count": 8,
   "id": "ba64b1e2-d9fc-4198-bb07-2981d91a8a7f",
   "metadata": {},
   "outputs": [
    {
     "name": "stdout",
     "output_type": "stream",
     "text": [
      "1000\n"
     ]
    }
   ],
   "source": [
    "class BankAccount:\n",
    "    def __init__(self, account_number, balance):\n",
    "        self.account_number = account_number\n",
    "        self.balance = balance\n",
    "\n",
    "    def deposit(self, amount):\n",
    "        self.balance += amount\n",
    "\n",
    "    def withdraw(self, amount):\n",
    "        if amount <= self.balance:\n",
    "            self.balance -= amount\n",
    "        else:\n",
    "            print(\"Insufficient balance.\")\n",
    "\n",
    "    def get_balance(self):\n",
    "        return self.balance\n",
    "    \n",
    "    account = BankAccount(\"1001023458\", 1000)\n",
    "    print(account.get_balance())\n",
    "    "
   ]
  },
  {
   "cell_type": "code",
   "execution_count": 33,
   "id": "50e821ed-d222-4990-8ea7-62b47a017cef",
   "metadata": {},
   "outputs": [
    {
     "ename": "NameError",
     "evalue": "name 'account' is not defined",
     "output_type": "error",
     "traceback": [
      "\u001b[0;31m---------------------------------------------------------------------------\u001b[0m",
      "\u001b[0;31mNameError\u001b[0m                                 Traceback (most recent call last)",
      "Cell \u001b[0;32mIn[33], line 1\u001b[0m\n\u001b[0;32m----> 1\u001b[0m \u001b[43maccount\u001b[49m\u001b[38;5;241m.\u001b[39mdeposit(\u001b[38;5;241m2000\u001b[39m)\n\u001b[1;32m      2\u001b[0m account\u001b[38;5;241m.\u001b[39mwithdraw(\u001b[38;5;241m1200\u001b[39m)\n",
      "\u001b[0;31mNameError\u001b[0m: name 'account' is not defined"
     ]
    }
   ],
   "source": [
    "account.deposit(2000)\n",
    "account.withdraw(1200)"
   ]
  },
  {
   "cell_type": "markdown",
   "id": "357fe33a-4269-4d0d-9705-01e07e54e947",
   "metadata": {},
   "source": [
    "Q 3. The abc module in Python stands for \"Abstract Base Classes.\" It provides mechanisms for defining abstract base classes in Python. An abstract base class is a class that cannot be instantiated directly but is meant to be subclassed by other classes.\n",
    "\n",
    "Example:-"
   ]
  },
  {
   "cell_type": "code",
   "execution_count": 6,
   "id": "f33d6fa6-8137-4954-80d7-ba201798d889",
   "metadata": {},
   "outputs": [
    {
     "name": "stdout",
     "output_type": "stream",
     "text": [
      "Area of circle: 78.5\n",
      "Area of rectangle: 24\n"
     ]
    }
   ],
   "source": [
    "from abc import ABC, abstractmethod\n",
    "\n",
    "class Shape(ABC):\n",
    "    @abstractmethod\n",
    "    def calculate_area(self):\n",
    "        pass\n",
    "\n",
    "class Circle(Shape):\n",
    "    def __init__(self, radius):\n",
    "        self.radius = radius\n",
    "    \n",
    "    def calculate_area(self):\n",
    "        return 3.14 * self.radius**2\n",
    "\n",
    "class Rectangle(Shape):\n",
    "    def __init__(self, width, height):\n",
    "        self.width = width\n",
    "        self.height = height\n",
    "    \n",
    "    def calculate_area(self):\n",
    "        return self.width * self.height\n",
    "\n",
    "circle = Circle(5)\n",
    "print(\"Area of circle:\", circle.calculate_area())\n",
    "\n",
    "rectangle = Rectangle(4, 6)\n",
    "print(\"Area of rectangle:\", rectangle.calculate_area())"
   ]
  },
  {
   "cell_type": "markdown",
   "id": "913cba3d-49c5-4931-92ec-6f4a2c4832b1",
   "metadata": {},
   "source": [
    "Q 4. Data abstraction is a concept in programming that focuses on exposing only essential information to the outside world while hiding the implementation details. It allows us to work with objects or data structures without needing to know the internal workings or complexities involved.\n",
    "\n",
    "Example:-\n"
   ]
  },
  {
   "cell_type": "code",
   "execution_count": 7,
   "id": "477dbb7f-be5d-477a-8370-a7f4dbc24193",
   "metadata": {},
   "outputs": [
    {
     "name": "stdout",
     "output_type": "stream",
     "text": [
      "Account balance: 5000\n",
      "Deposited 2000. New balance: 7000\n",
      "Withdrew 1500. New balance: 5500\n",
      "Account balance: 5500\n"
     ]
    }
   ],
   "source": [
    "class BankAccount:\n",
    "    def __init__(self, account_number, balance):\n",
    "        self._account_number = account_number\n",
    "        self._balance = balance\n",
    "    \n",
    "    def deposit(self, amount):\n",
    "        self._balance += amount\n",
    "        print(f\"Deposited {amount}. New balance: {self._balance}\")\n",
    "    \n",
    "    def withdraw(self, amount):\n",
    "        if self._balance >= amount:\n",
    "            self._balance -= amount\n",
    "            print(f\"Withdrew {amount}. New balance: {self._balance}\")\n",
    "        else:\n",
    "            print(\"Insufficient balance.\")\n",
    "    \n",
    "    def get_balance(self):\n",
    "        return self._balance\n",
    "account = BankAccount(\"1234567890\", 5000)\n",
    "\n",
    "\n",
    "print(\"Account balance:\", account.get_balance())\n",
    "\n",
    "account.deposit(2000)\n",
    "account.withdraw(1500)\n",
    "print(\"Account balance:\", account.get_balance())"
   ]
  },
  {
   "cell_type": "markdown",
   "id": "92444bfd-e963-4717-bae8-c3f4778e4f98",
   "metadata": {},
   "source": [
    "Q. 5 No, we cannot create an instance of an abstract class in Python. Abstract classes are meant to be subclassed, serving as blueprints for concrete classes that provide implementation for the abstract methods."
   ]
  },
  {
   "cell_type": "code",
   "execution_count": 9,
   "id": "adbfb897-429d-4f25-b028-1705b5a49a8d",
   "metadata": {},
   "outputs": [
    {
     "ename": "TypeError",
     "evalue": "Can't instantiate abstract class MyAbstractClass with abstract method my_abstract_method",
     "output_type": "error",
     "traceback": [
      "\u001b[0;31m---------------------------------------------------------------------------\u001b[0m",
      "\u001b[0;31mTypeError\u001b[0m                                 Traceback (most recent call last)",
      "Cell \u001b[0;32mIn[9], line 10\u001b[0m\n\u001b[1;32m      7\u001b[0m         \u001b[38;5;28;01mpass\u001b[39;00m\n\u001b[1;32m      9\u001b[0m \u001b[38;5;66;03m# Attempt to create an instance of the abstract class\u001b[39;00m\n\u001b[0;32m---> 10\u001b[0m obj \u001b[38;5;241m=\u001b[39m \u001b[43mMyAbstractClass\u001b[49m\u001b[43m(\u001b[49m\u001b[43m)\u001b[49m\n",
      "\u001b[0;31mTypeError\u001b[0m: Can't instantiate abstract class MyAbstractClass with abstract method my_abstract_method"
     ]
    }
   ],
   "source": [
    "from abc import ABC, abstractmethod\n",
    "\n",
    "class MyAbstractClass(ABC):\n",
    "    @abstractmethod\n",
    "    def my_abstract_method(self):\n",
    "        pass\n",
    "\n",
    "# Attempt to create an instance of the abstract\n",
    "obj = MyAbstractClass()"
   ]
  },
  {
   "cell_type": "code",
   "execution_count": null,
   "id": "02e761b2-71b6-43b0-bc94-087b483583c3",
   "metadata": {},
   "outputs": [],
   "source": []
  }
 ],
 "metadata": {
  "kernelspec": {
   "display_name": "Python 3 (ipykernel)",
   "language": "python",
   "name": "python3"
  },
  "language_info": {
   "codemirror_mode": {
    "name": "ipython",
    "version": 3
   },
   "file_extension": ".py",
   "mimetype": "text/x-python",
   "name": "python",
   "nbconvert_exporter": "python",
   "pygments_lexer": "ipython3",
   "version": "3.10.8"
  }
 },
 "nbformat": 4,
 "nbformat_minor": 5
}
